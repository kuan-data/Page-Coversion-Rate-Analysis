{
  "nbformat": 4,
  "nbformat_minor": 0,
  "metadata": {
    "colab": {
      "name": "Page_Conversion_Rate.ipynb",
      "provenance": [],
      "collapsed_sections": []
    },
    "kernelspec": {
      "name": "python3",
      "display_name": "Python 3"
    }
  },
  "cells": [
    {
      "cell_type": "code",
      "metadata": {
        "id": "akz0a99SoFNK",
        "colab_type": "code",
        "outputId": "c71fb215-bdf3-4f8a-97f3-48db20c7feae",
        "colab": {
          "base_uri": "https://localhost:8080/",
          "height": 119
        }
      },
      "source": [
        "import pandas\n",
        "pandas.set_option('display.max_columns', 10)\n",
        "pandas.set_option('display.width', 350)\n",
        "\n",
        "data = pandas.read_csv('conversion_project.csv')\n",
        "print(data.head())  "
      ],
      "execution_count": 0,
      "outputs": [
        {
          "output_type": "stream",
          "text": [
            "  country  age  new_user source  total_pages_visited  converted\n",
            "0      UK   25         1    Ads                    1          0\n",
            "1      US   23         1    Seo                    5          0\n",
            "2      US   28         1    Seo                    4          0\n",
            "3   China   39         1    Seo                    5          0\n",
            "4      US   30         1    Seo                    6          0\n"
          ],
          "name": "stdout"
        }
      ]
    },
    {
      "cell_type": "code",
      "metadata": {
        "id": "ujP1dI9poWvM",
        "colab_type": "code",
        "outputId": "1c1b8dc9-1241-4074-ed74-31f6128b339b",
        "colab": {
          "base_uri": "https://localhost:8080/",
          "height": 170
        }
      },
      "source": [
        "print(data.describe())"
      ],
      "execution_count": 0,
      "outputs": [
        {
          "output_type": "stream",
          "text": [
            "                 age       new_user  total_pages_visited      converted\n",
            "count  316200.000000  316200.000000        316200.000000  316200.000000\n",
            "mean       30.569858       0.685465             4.872966       0.032258\n",
            "std         8.271802       0.464331             3.341104       0.176685\n",
            "min        17.000000       0.000000             1.000000       0.000000\n",
            "25%        24.000000       0.000000             2.000000       0.000000\n",
            "50%        30.000000       1.000000             4.000000       0.000000\n",
            "75%        36.000000       1.000000             7.000000       0.000000\n",
            "max       123.000000       1.000000            29.000000       1.000000\n"
          ],
          "name": "stdout"
        }
      ]
    },
    {
      "cell_type": "code",
      "metadata": {
        "id": "eIZuaEWQ91fA",
        "colab_type": "code",
        "outputId": "e0cbc4ad-7de9-4f5e-8591-7d1a80caa85f",
        "colab": {
          "base_uri": "https://localhost:8080/",
          "height": 119
        }
      },
      "source": [
        "print(data.groupby(['country']).size())"
      ],
      "execution_count": 0,
      "outputs": [
        {
          "output_type": "stream",
          "text": [
            "country\n",
            "China       76602\n",
            "Germany     13056\n",
            "UK          48450\n",
            "US         178092\n",
            "dtype: int64\n"
          ],
          "name": "stdout"
        }
      ]
    },
    {
      "cell_type": "code",
      "metadata": {
        "id": "0LvCz7jz937w",
        "colab_type": "code",
        "outputId": "b3545ee9-b0ad-4033-dea1-50691eea99dc",
        "colab": {
          "base_uri": "https://localhost:8080/",
          "height": 102
        }
      },
      "source": [
        "print(data.groupby(['source']).size())"
      ],
      "execution_count": 0,
      "outputs": [
        {
          "output_type": "stream",
          "text": [
            "source\n",
            "Ads        88740\n",
            "Direct     72420\n",
            "Seo       155040\n",
            "dtype: int64\n"
          ],
          "name": "stdout"
        }
      ]
    },
    {
      "cell_type": "code",
      "metadata": {
        "id": "jfDQ7lRr975v",
        "colab_type": "code",
        "outputId": "0709bb1d-e622-4ec0-8c33-c00c3bb1ffd9",
        "colab": {
          "base_uri": "https://localhost:8080/",
          "height": 54
        }
      },
      "source": [
        "print(sorted(data['age'].unique(), reverse=True))\n"
      ],
      "execution_count": 0,
      "outputs": [
        {
          "output_type": "stream",
          "text": [
            "[123, 111, 79, 77, 73, 72, 70, 69, 68, 67, 66, 65, 64, 63, 62, 61, 60, 59, 58, 57, 56, 55, 54, 53, 52, 51, 50, 49, 48, 47, 46, 45, 44, 43, 42, 41, 40, 39, 38, 37, 36, 35, 34, 33, 32, 31, 30, 29, 28, 27, 26, 25, 24, 23, 22, 21, 20, 19, 18, 17]\n"
          ],
          "name": "stdout"
        }
      ]
    },
    {
      "cell_type": "code",
      "metadata": {
        "id": "P8QI71_O-I62",
        "colab_type": "code",
        "outputId": "54878ea7-0d35-4cbc-a0b4-54a2c18eaa2c",
        "colab": {
          "base_uri": "https://localhost:8080/",
          "height": 68
        }
      },
      "source": [
        "print(data[data['age']>110])"
      ],
      "execution_count": 0,
      "outputs": [
        {
          "output_type": "stream",
          "text": [
            "        country  age  new_user source  total_pages_visited  converted\n",
            "90928   Germany  123         0    Seo                   15          1\n",
            "295581       UK  111         0    Ads                   10          1\n"
          ],
          "name": "stdout"
        }
      ]
    },
    {
      "cell_type": "code",
      "metadata": {
        "id": "71v3bRRn-KF2",
        "colab_type": "code",
        "colab": {}
      },
      "source": [
        "data = data[data['age']<110]"
      ],
      "execution_count": 0,
      "outputs": []
    },
    {
      "cell_type": "code",
      "metadata": {
        "id": "GOVPji7--MI-",
        "colab_type": "code",
        "outputId": "280816b1-f385-4a8e-fbdf-15ed02825eb2",
        "colab": {
          "base_uri": "https://localhost:8080/",
          "height": 297
        }
      },
      "source": [
        "import matplotlib.pyplot as plt\n",
        "from matplotlib import rcParams\n",
        "rcParams.update({'figure.autolayout': True})\n",
        "  \n",
        "data.groupby(['country'])['converted'].mean().plot.bar()\n",
        "plt.show()"
      ],
      "execution_count": 0,
      "outputs": [
        {
          "output_type": "display_data",
          "data": {
            "image/png": "[encoded data removed]",
            "text/plain": [
              "<Figure size 432x288 with 1 Axes>"
            ]
          },
          "metadata": {
            "tags": []
          }
        }
      ]
    },
    {
      "cell_type": "code",
      "metadata": {
        "id": "bkS5yUtTARBH",
        "colab_type": "code",
        "outputId": "d497cb8e-6cf6-4f6f-955e-69ae8422ba1e",
        "colab": {
          "base_uri": "https://localhost:8080/",
          "height": 297
        }
      },
      "source": [
        "data.groupby(['total_pages_visited'])['converted'].mean().plot()\n",
        "plt.show()"
      ],
      "execution_count": 0,
      "outputs": [
        {
          "output_type": "display_data",
          "data": {
            "image/png": "[encoded data removed]",
            "text/plain": [
              "<Figure size 432x288 with 1 Axes>"
            ]
          },
          "metadata": {
            "tags": []
          }
        }
      ]
    },
    {
      "cell_type": "markdown",
      "metadata": {
        "id": "uvjgP4irQnET",
        "colab_type": "text"
      },
      "source": [
        "### Machine Learning"
      ]
    },
    {
      "cell_type": "markdown",
      "metadata": {
        "id": "fM8gvFZzV7cf",
        "colab_type": "text"
      },
      "source": [
        "####Random Forest"
      ]
    },
    {
      "cell_type": "code",
      "metadata": {
        "id": "mmZqtey7AmVW",
        "colab_type": "code",
        "colab": {}
      },
      "source": [
        "#dummy variables for the categorical ones\n",
        "data_dummy = pandas.get_dummies(data, drop_first=True)"
      ],
      "execution_count": 0,
      "outputs": []
    },
    {
      "cell_type": "code",
      "metadata": {
        "id": "AKF7GzYyBN3n",
        "colab_type": "code",
        "colab": {}
      },
      "source": [
        "import numpy as np\n",
        "from sklearn.metrics import confusion_matrix\n",
        "from sklearn.model_selection import train_test_split\n",
        "from sklearn.ensemble import RandomForestClassifier\n",
        "from sklearn.model_selection import GridSearchCV\n",
        "import lightgbm as lgb\n",
        "import sklearn\n",
        "np.random.seed(4684)"
      ],
      "execution_count": 0,
      "outputs": []
    },
    {
      "cell_type": "code",
      "metadata": {
        "id": "6wowHwlHRb48",
        "colab_type": "code",
        "colab": {}
      },
      "source": [
        "#split into train and test to avoid overfitting\n",
        "train, test = train_test_split(data_dummy, test_size = 0.34)"
      ],
      "execution_count": 0,
      "outputs": []
    },
    {
      "cell_type": "code",
      "metadata": {
        "id": "p5l9OCnoSfgN",
        "colab_type": "code",
        "outputId": "252643e7-4027-473c-e245-4ede7f503949",
        "colab": {
          "base_uri": "https://localhost:8080/",
          "height": 153
        }
      },
      "source": [
        "#build the model\n",
        "rf = RandomForestClassifier(n_estimators=100, max_features=3, oob_score=True)\n",
        "rf.fit(train.drop('converted', axis=1), train['converted'])"
      ],
      "execution_count": 0,
      "outputs": [
        {
          "output_type": "execute_result",
          "data": {
            "text/plain": [
              "RandomForestClassifier(bootstrap=True, ccp_alpha=0.0, class_weight=None,\n",
              "                       criterion='gini', max_depth=None, max_features=3,\n",
              "                       max_leaf_nodes=None, max_samples=None,\n",
              "                       min_impurity_decrease=0.0, min_impurity_split=None,\n",
              "                       min_samples_leaf=1, min_samples_split=2,\n",
              "                       min_weight_fraction_leaf=0.0, n_estimators=100,\n",
              "                       n_jobs=None, oob_score=True, random_state=None,\n",
              "                       verbose=0, warm_start=False)"
            ]
          },
          "metadata": {
            "tags": []
          },
          "execution_count": 47
        }
      ]
    },
    {
      "cell_type": "code",
      "metadata": {
        "id": "HZSk_KGSSytJ",
        "colab_type": "code",
        "outputId": "afcb560a-804e-42e5-98d6-365b3c019c83",
        "colab": {
          "base_uri": "https://localhost:8080/",
          "height": 102
        }
      },
      "source": [
        "print(\n",
        "\"OOB accuracy is\", \n",
        "rf.oob_score_, \n",
        "\"\\n\", \n",
        "\"OOB Confusion Matrix\", \n",
        "\"\\n\",\n",
        "pandas.DataFrame(confusion_matrix(train['converted'], rf.oob_decision_function_[:,1].round(), labels=[0, 1]))\n",
        ")"
      ],
      "execution_count": 0,
      "outputs": [
        {
          "output_type": "stream",
          "text": [
            "OOB accuracy is 0.9838851885571901 \n",
            " OOB Confusion Matrix \n",
            "         0     1\n",
            "0  200872  1102\n",
            "1    2261  4455\n"
          ],
          "name": "stdout"
        }
      ]
    },
    {
      "cell_type": "code",
      "metadata": {
        "id": "b6j-f0hUTsgH",
        "colab_type": "code",
        "outputId": "fc5104c7-2c62-47b9-bdb8-658b17d09df0",
        "colab": {
          "base_uri": "https://localhost:8080/",
          "height": 102
        }
      },
      "source": [
        "#and let's print test accuracy and confusion matrix\n",
        "print(\n",
        "\"Test accuracy is\", rf.score(test.drop('converted', axis=1),test['converted']), \n",
        "\"\\n\", \n",
        "\"Test Set Confusion Matrix\", \n",
        "\"\\n\",\n",
        "pandas.DataFrame(confusion_matrix(test['converted'], rf.predict(test.drop('converted', axis=1)), labels=[0, 1]))\n",
        ")"
      ],
      "execution_count": 0,
      "outputs": [
        {
          "output_type": "stream",
          "text": [
            "Test accuracy is 0.9847360196450496 \n",
            " Test Set Confusion Matrix \n",
            "         0     1\n",
            "0  103483   543\n",
            "1    1098  2384\n"
          ],
          "name": "stdout"
        }
      ]
    },
    {
      "cell_type": "code",
      "metadata": {
        "id": "YEwuI4ZwVzCI",
        "colab_type": "code",
        "outputId": "1918e3ef-7ae7-40cc-ebda-60df8ce4abae",
        "colab": {
          "base_uri": "https://localhost:8080/",
          "height": 297
        }
      },
      "source": [
        "feat_importances = pandas.Series(rf.feature_importances_, index=train.drop('converted', axis=1).columns)\n",
        "feat_importances.sort_values().plot(kind='barh')\n",
        "plt.show()"
      ],
      "execution_count": 0,
      "outputs": [
        {
          "output_type": "display_data",
          "data": {
            "image/png": "[encoded data removed]",
            "text/plain": [
              "<Figure size 432x288 with 1 Axes>"
            ]
          },
          "metadata": {
            "tags": []
          }
        }
      ]
    },
    {
      "cell_type": "code",
      "metadata": {
        "id": "joi0rq18ZYLX",
        "colab_type": "code",
        "outputId": "0eeac6fe-3480-4a07-ffa2-655115705deb",
        "colab": {
          "base_uri": "https://localhost:8080/",
          "height": 445
        }
      },
      "source": [
        "pip install pdpbox"
      ],
      "execution_count": 0,
      "outputs": [
        {
          "output_type": "stream",
          "text": [
            "Collecting pdpbox\n",
            "\u001b[?25l  Downloading https://files.pythonhosted.org/packages/87/23/ac7da5ba1c6c03a87c412e7e7b6e91a10d6ecf4474906c3e736f93940d49/PDPbox-0.2.0.tar.gz (57.7MB)\n",
            "\u001b[K     |████████████████████████████████| 57.7MB 59kB/s \n",
            "\u001b[?25hRequirement already satisfied: pandas in /usr/local/lib/python3.6/dist-packages (from pdpbox) (0.25.3)\n",
            "Requirement already satisfied: numpy in /usr/local/lib/python3.6/dist-packages (from pdpbox) (1.17.5)\n",
            "Requirement already satisfied: scipy in /usr/local/lib/python3.6/dist-packages (from pdpbox) (1.4.1)\n",
            "Requirement already satisfied: matplotlib>=2.1.2 in /usr/local/lib/python3.6/dist-packages (from pdpbox) (3.1.3)\n",
            "Requirement already satisfied: joblib in /usr/local/lib/python3.6/dist-packages (from pdpbox) (0.14.1)\n",
            "Requirement already satisfied: psutil in /usr/local/lib/python3.6/dist-packages (from pdpbox) (5.4.8)\n",
            "Requirement already satisfied: scikit-learn in /usr/local/lib/python3.6/dist-packages (from pdpbox) (0.22.1)\n",
            "Requirement already satisfied: pytz>=2017.2 in /usr/local/lib/python3.6/dist-packages (from pandas->pdpbox) (2018.9)\n",
            "Requirement already satisfied: python-dateutil>=2.6.1 in /usr/local/lib/python3.6/dist-packages (from pandas->pdpbox) (2.6.1)\n",
            "Requirement already satisfied: kiwisolver>=1.0.1 in /usr/local/lib/python3.6/dist-packages (from matplotlib>=2.1.2->pdpbox) (1.1.0)\n",
            "Requirement already satisfied: pyparsing!=2.0.4,!=2.1.2,!=2.1.6,>=2.0.1 in /usr/local/lib/python3.6/dist-packages (from matplotlib>=2.1.2->pdpbox) (2.4.6)\n",
            "Requirement already satisfied: cycler>=0.10 in /usr/local/lib/python3.6/dist-packages (from matplotlib>=2.1.2->pdpbox) (0.10.0)\n",
            "Requirement already satisfied: six>=1.5 in /usr/local/lib/python3.6/dist-packages (from python-dateutil>=2.6.1->pandas->pdpbox) (1.12.0)\n",
            "Requirement already satisfied: setuptools in /usr/local/lib/python3.6/dist-packages (from kiwisolver>=1.0.1->matplotlib>=2.1.2->pdpbox) (45.2.0)\n",
            "Building wheels for collected packages: pdpbox\n",
            "  Building wheel for pdpbox (setup.py) ... \u001b[?25l\u001b[?25hdone\n",
            "  Created wheel for pdpbox: filename=PDPbox-0.2.0-cp36-none-any.whl size=57690722 sha256=c63e79af5cae04f7898c48e6ea29ddebcb74734b68d37a8271573c01d53a669e\n",
            "  Stored in directory: /root/.cache/pip/wheels/7d/08/51/63fd122b04a2c87d780464eeffb94867c75bd96a64d500a3fe\n",
            "Successfully built pdpbox\n",
            "Installing collected packages: pdpbox\n",
            "Successfully installed pdpbox-0.2.0\n"
          ],
          "name": "stdout"
        }
      ]
    },
    {
      "cell_type": "code",
      "metadata": {
        "id": "LJ8nD_xuaCBm",
        "colab_type": "code",
        "outputId": "dc0468d2-6db6-48f9-bfb9-dc1d5914fe91",
        "colab": {
          "base_uri": "https://localhost:8080/",
          "height": 102
        }
      },
      "source": [
        "#build the model without total_pages_visited\n",
        "rf = RandomForestClassifier(n_estimators=100, max_features=3, oob_score=True, class_weight={0:1, 1:10})\n",
        "rf.fit(train.drop(['converted', 'total_pages_visited'], axis=1), train['converted'])\n",
        "  \n",
        "#let's print OOB accuracy and confusion matrix\n",
        "print(\n",
        "\"OOB accuracy is\", \n",
        "rf.oob_score_, \n",
        "\"\\n\", \n",
        "\"OOB Confusion Matrix\", \n",
        "\"\\n\",\n",
        "pandas.DataFrame(confusion_matrix(train['converted'], rf.oob_decision_function_[:,1].round(), labels=[0, 1]))\n",
        ")"
      ],
      "execution_count": 0,
      "outputs": [
        {
          "output_type": "stream",
          "text": [
            "OOB accuracy is 0.889827016148354 \n",
            " OOB Confusion Matrix \n",
            "         0      1\n",
            "0  182720  19254\n",
            "1    3738   2978\n"
          ],
          "name": "stdout"
        }
      ]
    },
    {
      "cell_type": "code",
      "metadata": {
        "id": "-t2fj4GuaJPD",
        "colab_type": "code",
        "outputId": "68a25664-6977-49ac-99ea-a2570088754a",
        "colab": {
          "base_uri": "https://localhost:8080/",
          "height": 102
        }
      },
      "source": [
        "#and let's print test accuracy and confusion matrix\n",
        "print(\n",
        "\"Test accuracy is\", rf.score(test.drop(['converted', 'total_pages_visited'], axis=1),test['converted']), \n",
        "\"\\n\", \n",
        "\"Test Set Confusion Matrix\", \n",
        "\"\\n\",\n",
        "pandas.DataFrame(confusion_matrix(test['converted'], rf.predict(test.drop(['converted', 'total_pages_visited'], axis=1)), labels=[0, 1]))\n",
        ")"
      ],
      "execution_count": 0,
      "outputs": [
        {
          "output_type": "stream",
          "text": [
            "Test accuracy is 0.8899802805372623 \n",
            " Test Set Confusion Matrix \n",
            "        0     1\n",
            "0  94140  9886\n",
            "1   1942  1540\n"
          ],
          "name": "stdout"
        }
      ]
    },
    {
      "cell_type": "code",
      "metadata": {
        "id": "MNvhnqxeaPoW",
        "colab_type": "code",
        "outputId": "84b9d222-345f-4650-87b2-aa935f00f722",
        "colab": {
          "base_uri": "https://localhost:8080/",
          "height": 297
        }
      },
      "source": [
        "feat_importances = pandas.Series(rf.feature_importances_, index=train.drop(['converted', 'total_pages_visited'], axis=1).columns)\n",
        "feat_importances.sort_values().plot(kind='barh')\n",
        "plt.show()"
      ],
      "execution_count": 0,
      "outputs": [
        {
          "output_type": "display_data",
          "data": {
            "image/png": "[encoded data removed]",
            "text/plain": [
              "<Figure size 432x288 with 1 Axes>"
            ]
          },
          "metadata": {
            "tags": []
          }
        }
      ]
    },
    {
      "cell_type": "code",
      "metadata": {
        "id": "uqj8O9qzZUem",
        "colab_type": "code",
        "outputId": "fbde220a-f496-444b-db51-e20567c47f29",
        "colab": {
          "base_uri": "https://localhost:8080/",
          "height": 297
        }
      },
      "source": [
        "from pdpbox import pdp, info_plots\n",
        "  \n",
        "#country\n",
        "pdp_iso = pdp.pdp_isolate( model=rf, \n",
        "                          dataset=train.drop(['converted', 'total_pages_visited'], axis=1),      \n",
        "                          model_features=list(train.drop(['converted', 'total_pages_visited'], axis=1)), \n",
        "                          feature=['country_Germany', 'country_UK', 'country_US'], \n",
        "                          num_grid_points=50)\n",
        "pdp_dataset = pandas.Series(pdp_iso.pdp, index=pdp_iso.display_columns)\n",
        "pdp_dataset.sort_values(ascending=False).plot(kind='bar', title='Country')\n",
        "plt.show()"
      ],
      "execution_count": 0,
      "outputs": [
        {
          "output_type": "display_data",
          "data": {
            "image/png": "[encoded data removed]",
            "text/plain": [
              "<Figure size 432x288 with 1 Axes>"
            ]
          },
          "metadata": {
            "tags": []
          }
        }
      ]
    },
    {
      "cell_type": "markdown",
      "metadata": {
        "id": "gozQfvTCWEG5",
        "colab_type": "text"
      },
      "source": [
        "#### LightGBM"
      ]
    },
    {
      "cell_type": "code",
      "metadata": {
        "id": "5yRDVdVxUix4",
        "colab_type": "code",
        "outputId": "1a6114ba-8ff0-4351-f4d2-fb307309e9f8",
        "colab": {
          "base_uri": "https://localhost:8080/",
          "height": 119
        }
      },
      "source": [
        "gbm = lgb.LGBMClassifier(num_leaves=30,learning_rate=0.1,n_estimators=100)\n",
        "gbm.fit(train.drop('converted', axis=1), train['converted'])"
      ],
      "execution_count": 0,
      "outputs": [
        {
          "output_type": "execute_result",
          "data": {
            "text/plain": [
              "LGBMClassifier(boosting_type='gbdt', class_weight=None, colsample_bytree=1.0,\n",
              "               importance_type='split', learning_rate=0.1, max_depth=-1,\n",
              "               min_child_samples=20, min_child_weight=0.001, min_split_gain=0.0,\n",
              "               n_estimators=100, n_jobs=-1, num_leaves=30, objective=None,\n",
              "               random_state=None, reg_alpha=0.0, reg_lambda=0.0, silent=True,\n",
              "               subsample=1.0, subsample_for_bin=200000, subsample_freq=0)"
            ]
          },
          "metadata": {
            "tags": []
          },
          "execution_count": 35
        }
      ]
    },
    {
      "cell_type": "code",
      "metadata": {
        "id": "qcQ05Y-7jOB4",
        "colab_type": "code",
        "outputId": "826fd344-a3f7-48a4-e25d-e16111b7594b",
        "colab": {
          "base_uri": "https://localhost:8080/",
          "height": 34
        }
      },
      "source": [
        "estimator = lgb.LGBMClassifier(num_leaves=30)\n",
        "param_grid = {\n",
        "    'learning_rate': [0.01, 0.1, 1],\n",
        "    'n_estimators': [20, 40]\n",
        "}\n",
        "\n",
        "gbm = GridSearchCV(estimator, param_grid, cv=3)\n",
        "gbm.fit(train.drop('converted', axis=1), train['converted'])\n",
        "\n",
        "print('Best parameters found by grid search are:', gbm.best_params_)"
      ],
      "execution_count": 0,
      "outputs": [
        {
          "output_type": "stream",
          "text": [
            "Best parameters found by grid search are: {'learning_rate': 0.1, 'n_estimators': 40}\n"
          ],
          "name": "stdout"
        }
      ]
    },
    {
      "cell_type": "code",
      "metadata": {
        "id": "e1RopQT4T971",
        "colab_type": "code",
        "outputId": "2c480ee0-b901-4998-cdd4-0a53cf98b1d6",
        "colab": {
          "base_uri": "https://localhost:8080/",
          "height": 102
        }
      },
      "source": [
        "#and let's print test accuracy and confusion matrix\n",
        "print(\n",
        "\"Test accuracy is\", gbm.score(test.drop('converted', axis=1),test['converted']), \n",
        "\"\\n\", \n",
        "\"Test Set Confusion Matrix\", \n",
        "\"\\n\",\n",
        "pandas.DataFrame(confusion_matrix(test['converted'], gbm.predict(test.drop('converted', axis=1)), labels=[0, 1]))\n",
        ")"
      ],
      "execution_count": 0,
      "outputs": [
        {
          "output_type": "stream",
          "text": [
            "Test accuracy is 0.9864289169178108 \n",
            " Test Set Confusion Matrix \n",
            "         0     1\n",
            "0  103606   420\n",
            "1    1039  2443\n"
          ],
          "name": "stdout"
        }
      ]
    },
    {
      "cell_type": "code",
      "metadata": {
        "id": "yP65jFW1UK45",
        "colab_type": "code",
        "outputId": "5e161668-205a-41c4-e3cc-c1b64024d4cb",
        "colab": {
          "base_uri": "https://localhost:8080/",
          "height": 297
        }
      },
      "source": [
        "feat_importances = pandas.Series(gbm.feature_importances_, index=train.drop('converted', axis=1).columns)\n",
        "feat_importances.sort_values().plot(kind='barh')\n",
        "plt.show()"
      ],
      "execution_count": 0,
      "outputs": [
        {
          "output_type": "display_data",
          "data": {
            "image/png": "[encoded data removed]",
            "text/plain": [
              "<Figure size 432x288 with 1 Axes>"
            ]
          },
          "metadata": {
            "tags": []
          }
        }
      ]
    }
  ]
}